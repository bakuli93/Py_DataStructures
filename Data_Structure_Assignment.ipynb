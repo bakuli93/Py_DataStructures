{
  "nbformat": 4,
  "nbformat_minor": 0,
  "metadata": {
    "colab": {
      "provenance": []
    },
    "kernelspec": {
      "name": "python3",
      "display_name": "Python 3"
    },
    "language_info": {
      "name": "python"
    }
  },
  "cells": [
    {
      "cell_type": "markdown",
      "source": [
        "#Data Types & Structures Assignment"
      ],
      "metadata": {
        "id": "UJGRMBdQ5RmH"
      }
    },
    {
      "cell_type": "markdown",
      "source": [
        "1. What are data structures, and why are they important?\n",
        "\n",
        "-  A data structure is a specialized way of organizing, managing and storing data in a computer so that it can be accessed and modified efficiently. Data structures are the foundation of programming, as they help in solving complex problems effectively.\n",
        "\n",
        "   Data Structure are importent for efficient data management, better problem solving, scalability and organized data storage."
      ],
      "metadata": {
        "id": "GGodjJ8X5g3a"
      }
    },
    {
      "cell_type": "markdown",
      "source": [
        "2.  Explain the difference between mutable and immutable data types with examples?\n",
        "\n",
        "-  Python data types are classified into mutable and immutable based on whether their values can be changed after creation.\n",
        "\n",
        "Mutable data types can be change, allow modification after creation.\n",
        "Example: list, dict, set, bytearray.\n",
        "\n",
        "Immutable Data Types cannot be changed after creation.\n",
        "Examples: int, float, tuple, string, frozenset, bytes."
      ],
      "metadata": {
        "id": "NGDlFu9d6rji"
      }
    },
    {
      "cell_type": "markdown",
      "source": [
        "3. What are the main differences between lists and tuples in Python?\n",
        "\n",
        "-  Lists and tuples are both sequence data types in Python, but they differ in several fundamental ways.\n",
        "\n",
        "Mutability:\n",
        "Lists are mutable, meaning their elements can be modified, added, or removed after creation.\n",
        "Tuples are immutable, meaning once they are defined, their elements cannot be changed, added, or removed.\n",
        "\n",
        "Syntax and Representation:\n",
        "Lists are defined using square brackets ([]).\n",
        "Tuples are defined using parentheses (()).\n",
        "\n",
        "Performance and Efficiency:\n",
        "Lists require more memory and processing time because they support dynamic modifications.\n",
        "Tuples are more memory-efficient and faster, as their immutability allows for optimizations by the Python interpreter.\n",
        "Operations and Methods\n",
        "\n",
        "Lists support various methods like append(), remove(), pop(), and sort() for modifying elements.\n",
        "Tuples have limited built-in methods (e.g., count() and index()) since they cannot be modified.\n",
        "\n",
        "The choice between lists and tuples depends on the use case: lists provide flexibility, while tuples offer stability, performance, and data integrity.\n"
      ],
      "metadata": {
        "id": "YxfF6u0S7Oyp"
      }
    },
    {
      "cell_type": "markdown",
      "source": [
        "4. Describe how dictionaries store data?\n",
        "\n",
        "-  n Python, a dictionary (dict) is an unordered, mutable data structure that stores data in key-value pairs. It allows fast lookups, modifications, and deletions using a technique called hashing.\n",
        "\n",
        "A dictionary consists of:\n",
        "Keys (Unique, immutable objects such as strings, numbers, or tuples)\n",
        "Values (Any data type, including lists, other dictionaries, or objects)"
      ],
      "metadata": {
        "id": "a6QWz0P5H3X_"
      }
    },
    {
      "cell_type": "code",
      "source": [
        "my_dict = {\"name\": \"Alice\", \"age\": 25, \"city\": \"New York\"}\n",
        "print(my_dict)"
      ],
      "metadata": {
        "colab": {
          "base_uri": "https://localhost:8080/"
        },
        "id": "0u06Qz53IYWe",
        "outputId": "e9e9c316-7b54-4434-b703-d5fa8025d14c"
      },
      "execution_count": 2,
      "outputs": [
        {
          "output_type": "stream",
          "name": "stdout",
          "text": [
            "{'name': 'Alice', 'age': 25, 'city': 'New York'}\n"
          ]
        }
      ]
    },
    {
      "cell_type": "markdown",
      "source": [
        "5. Why might you use a set instead of a list in Python?\n",
        "\n",
        "-  A set and a list both store collections of elements, but they have key differences that make sets preferable in certain cases.\n",
        "\n",
        "Since sets do not store indexed data or duplicates, they use less memory than lists and are less computationally expensive. As a result, sets take less time to search through. A set automatically removes duplicate values, whereas a list allows duplicates."
      ],
      "metadata": {
        "id": "KS0kMngiIh0v"
      }
    },
    {
      "cell_type": "markdown",
      "source": [
        "6. What is a string in Python, and how is it different from a list?\n",
        "\n",
        "-   A string in Python is a sequence of characters enclosed in single ('), double (\"), or triple quotes (''' or \"\"\" \"\"\"). It is an immutable data type, meaning it cannot be modified after creation.\n",
        "\n",
        "and list is mutable, enclosed in [] and store any data type."
      ],
      "metadata": {
        "id": "6bl581JiLg15"
      }
    },
    {
      "cell_type": "markdown",
      "source": [
        "7. How do tuples ensure data integrity in Python?\n",
        "\n",
        "-  A tuple in Python is an immutable sequence that ensures data integrity by preventing modifications after creation. This immutability provides several advantages in terms of reliability, security, and performance."
      ],
      "metadata": {
        "id": "v7xckhFYMYpF"
      }
    },
    {
      "cell_type": "markdown",
      "source": [
        "8. What is a hash table, and how does it relate to dictionaries in Python?\n",
        "\n",
        "-   Hash table or hash map is a data structure that stores key-value pairs, using a hash function to map keys to indices in an array (or \"buckets\") for fast data retrieval, and Python dictionaries are built upon hash tables."
      ],
      "metadata": {
        "id": "I7Wcn02BOrYl"
      }
    },
    {
      "cell_type": "markdown",
      "source": [
        "9. Can lists contain different data types in Python?\n",
        "\n",
        "-  Yes! In Python, lists can contain elements of different data types. Unlike arrays in some languages (which require a single data type), Python lists are heterogeneous, meaning they can store integers, floats, strings, booleans, objects, even other lists."
      ],
      "metadata": {
        "id": "C1BkJkoDPiga"
      }
    },
    {
      "cell_type": "markdown",
      "source": [
        "10. Explain why strings are immutable in Python?\n",
        "\n",
        "-   In Python, strings are immutable, meaning once a string is created, it cannot be changed. Any operation that appears to modify a string actually creates a new string instead of altering the original one."
      ],
      "metadata": {
        "id": "2nzI1ikaPxli"
      }
    },
    {
      "cell_type": "markdown",
      "source": [
        "11. What advantages do dictionaries offer over lists for certain tasks?\n",
        "\n",
        "-  Dictionaries (dict) and lists (list) are both data structures in Python, but dictionaries offer unique advantages for certain tasks due to their key-value storage and hash table implementation."
      ],
      "metadata": {
        "id": "UgnEQFovQAbO"
      }
    },
    {
      "cell_type": "code",
      "source": [
        "employees = {101: \"Subham\", 102: \"Bakuli\", 103: \"joy\"}\n",
        "print(employees[102])\n"
      ],
      "metadata": {
        "colab": {
          "base_uri": "https://localhost:8080/"
        },
        "id": "ro6_bCMiQZRS",
        "outputId": "0a8641f6-ff1c-458d-d036-0c3806aaabef"
      },
      "execution_count": 6,
      "outputs": [
        {
          "output_type": "stream",
          "name": "stdout",
          "text": [
            "Bakuli\n"
          ]
        }
      ]
    },
    {
      "cell_type": "markdown",
      "source": [
        "12.  Describe a scenario where using a tuple would be preferable over a list?\n",
        "\n",
        "-    Tuples are immutable, meaning their contents cannot be changed after creation. This makes them ideal for data integrity, memory efficiency, and performance.\n",
        "\n",
        "GPS coordinates are fixed, they should not change."
      ],
      "metadata": {
        "id": "SXxd6SUtRGCs"
      }
    },
    {
      "cell_type": "code",
      "source": [
        "# Using a tuple for fixed coordinates\n",
        "climate_station = (\"Mumbai\", (19.0760, 72.8777))  # City & Coordinates\n",
        "\n",
        "print(f\"City: {climate_station[0]}\")\n",
        "print(f\"Coordinates: {climate_station[1]}\")\n"
      ],
      "metadata": {
        "colab": {
          "base_uri": "https://localhost:8080/"
        },
        "id": "lzUpYRMDTMls",
        "outputId": "95c1a35d-c077-480e-ddda-4cce9e498d60"
      },
      "execution_count": 7,
      "outputs": [
        {
          "output_type": "stream",
          "name": "stdout",
          "text": [
            "City: Mumbai\n",
            "Coordinates: (19.076, 72.8777)\n"
          ]
        }
      ]
    },
    {
      "cell_type": "markdown",
      "source": [
        "13. How do sets handle duplicate values in Python?\n",
        "\n",
        "-   Sets automatically remove duplicate values.\n",
        "In Python, a set is an unordered collection of unique elements. If you add duplicate values, the set stores only one occurrence of each."
      ],
      "metadata": {
        "id": "MzqKI3vdTTmq"
      }
    },
    {
      "cell_type": "code",
      "source": [
        "data = [10, 20, 30, 10, 20, 40]  # Contains duplicates\n",
        "unique_data = set(data)  # Convert to set\n",
        "\n",
        "print(unique_data)"
      ],
      "metadata": {
        "colab": {
          "base_uri": "https://localhost:8080/"
        },
        "id": "mkkCWStfTpJg",
        "outputId": "ad9c5258-a495-4949-8c5f-65d5eeb958f0"
      },
      "execution_count": 8,
      "outputs": [
        {
          "output_type": "stream",
          "name": "stdout",
          "text": [
            "{40, 10, 20, 30}\n"
          ]
        }
      ]
    },
    {
      "cell_type": "markdown",
      "source": [
        "14. How does the “in” keyword work differently for lists and dictionaries?\n",
        "\n",
        "-  The in keyword in Python is used to check membership—whether a value exists in a data structure. However, its efficiency differs between lists and dictionaries because of their underlying implementation."
      ],
      "metadata": {
        "id": "d-2CXFOSTt68"
      }
    },
    {
      "cell_type": "code",
      "source": [
        "numbers = [10, 20, 30, 40, 50]\n",
        "print(30 in numbers)\n",
        "print(100 in numbers)"
      ],
      "metadata": {
        "colab": {
          "base_uri": "https://localhost:8080/"
        },
        "id": "kzdt5f64UJWv",
        "outputId": "376f5ecd-b6ff-4ed1-c6db-839a0196514c"
      },
      "execution_count": 9,
      "outputs": [
        {
          "output_type": "stream",
          "name": "stdout",
          "text": [
            "True\n",
            "False\n"
          ]
        }
      ]
    },
    {
      "cell_type": "markdown",
      "source": [
        "15. Can you modify the elements of a tuple? Explain why or why not?\n",
        "\n",
        "-  No, we cannot modify the elements of a tuple because tuples are immutable in Python. This means that once a tuple is created, its elements cannot be changed, added, or removed.\n",
        "\n",
        "but modifying a mutable element inside a tuple if a tuple contains a mutable object (e.g., a list), the list itself can be modified."
      ],
      "metadata": {
        "id": "fosbig6rUP4B"
      }
    },
    {
      "cell_type": "code",
      "source": [
        "t = (1, [2, 3], 4)\n",
        "t[1].append(5)\n",
        "print(t)"
      ],
      "metadata": {
        "colab": {
          "base_uri": "https://localhost:8080/"
        },
        "id": "pJydqOvoUgwM",
        "outputId": "744e1f41-eb54-4efe-f840-f0639672b10b"
      },
      "execution_count": 10,
      "outputs": [
        {
          "output_type": "stream",
          "name": "stdout",
          "text": [
            "(1, [2, 3, 5], 4)\n"
          ]
        }
      ]
    },
    {
      "cell_type": "markdown",
      "source": [
        "16. What is a nested dictionary, and give an example of its use case?\n",
        "\n",
        "-   A nested dictionary is a dictionary that contains another dictionary as a value. It allows for multi-level data storage, making it useful for storing structured or hierarchical data."
      ],
      "metadata": {
        "id": "mh1KGaK9VD6C"
      }
    },
    {
      "cell_type": "code",
      "source": [
        "esg_data = {\n",
        "    \"Tesla\": {\n",
        "        \"Environmental\": 85,\n",
        "        \"Social\": 78,\n",
        "        \"Governance\": 80,\n",
        "        \"Years\": {\"2024\": 82, \"2025\": 85}\n",
        "    },\n",
        "    \"Microsoft\": {\n",
        "        \"Environmental\": 90,\n",
        "        \"Social\": 88,\n",
        "        \"Governance\": 92,\n",
        "        \"Years\": {\"2024\": 89, \"2025\": 90}\n",
        "    }\n",
        "}\n",
        "\n",
        "# Accessing Tesla's 2024 ESG score\n",
        "print(esg_data[\"Tesla\"][\"Years\"][\"2024\"])\n"
      ],
      "metadata": {
        "colab": {
          "base_uri": "https://localhost:8080/"
        },
        "id": "PTEPeCq-VXIc",
        "outputId": "2e92555a-1c07-445e-ae6b-471e91ba35a4"
      },
      "execution_count": 14,
      "outputs": [
        {
          "output_type": "stream",
          "name": "stdout",
          "text": [
            "82\n"
          ]
        }
      ]
    },
    {
      "cell_type": "markdown",
      "source": [
        "17.  Describe the time complexity of accessing elements in a dictionary?\n",
        "\n",
        "-   In Python, accessing elements in a dictionary is highly efficient due to its hash table implementation. The time complexity depends on whether the lookup is successful or if there are hash collisions."
      ],
      "metadata": {
        "id": "YoA_7JjOV1aE"
      }
    },
    {
      "cell_type": "markdown",
      "source": [
        "18.  In what situations are lists preferred over dictionaries?\n",
        "\n",
        "-    Lists (list) and dictionaries (dict) are both essential data structures in Python, but lists are preferred in situations where order matters.\n",
        "Use a list when you need to maintain the exact sequence of elements for an example to do list."
      ],
      "metadata": {
        "id": "8O3ADPo3YY-y"
      }
    },
    {
      "cell_type": "markdown",
      "source": [
        "19. Why are dictionaries considered unordered, and how does that affect data retrieval?\n",
        "\n",
        "- Dictionaries are considered unordered because they are designed for fast key-based retrieval rather than maintaining a specific order of elements, and this lack of inherent order affects data retrieval by making it impossible to access elements by their position (index)."
      ],
      "metadata": {
        "id": "v3ErnzvxY4uQ"
      }
    },
    {
      "cell_type": "markdown",
      "source": [
        "20. Explain the difference between a list and a dictionary in terms of data retrieval.\n",
        "\n",
        "-   In data retrieval, lists access elements by their numerical index (starting from 0), while dictionaries access elements (values) by their unique keys, offering faster lookups for large datasets."
      ],
      "metadata": {
        "id": "yY7wjbUIZSgl"
      }
    },
    {
      "cell_type": "markdown",
      "source": [
        "\n",
        "\n",
        "\n",
        "#Practical Questions"
      ],
      "metadata": {
        "id": "yRdxzWmQaRgP"
      }
    },
    {
      "cell_type": "code",
      "source": [
        "#1. Write a code to create a string with your name and print it?\n",
        "\n",
        "my_name = 'Subham Bakuli'\n",
        "print(my_name)\n"
      ],
      "metadata": {
        "colab": {
          "base_uri": "https://localhost:8080/"
        },
        "id": "Ddiy9-v7aVs8",
        "outputId": "56f0b8a0-03d7-4c4b-d3cc-8e09ce464470"
      },
      "execution_count": 15,
      "outputs": [
        {
          "output_type": "stream",
          "name": "stdout",
          "text": [
            "Subham Bakuli\n"
          ]
        }
      ]
    },
    {
      "cell_type": "code",
      "source": [
        "#2. Write a code to find the length of the string \"Hello World\"?\n",
        "\n",
        "text = 'Hello World'\n",
        "\n",
        "print(len(text))\n"
      ],
      "metadata": {
        "colab": {
          "base_uri": "https://localhost:8080/"
        },
        "id": "WcDWgur5a8o7",
        "outputId": "e5f18a61-42f6-4492-90d3-566f36024add"
      },
      "execution_count": 17,
      "outputs": [
        {
          "output_type": "stream",
          "name": "stdout",
          "text": [
            "11\n"
          ]
        }
      ]
    },
    {
      "cell_type": "code",
      "source": [
        "#3. Write a code to slice the first 3 characters from the string \"Python Programming\"?\n",
        "\n",
        "# Define the string\n",
        "text = \"Python Programming\"\n",
        "\n",
        "# Slice the first 3 characters\n",
        "first_three_chars = text[:3]\n",
        "\n",
        "print(first_three_chars)\n"
      ],
      "metadata": {
        "colab": {
          "base_uri": "https://localhost:8080/"
        },
        "id": "RwwWJv3ObUx3",
        "outputId": "b25250da-9b2e-4848-d56a-75b5bdfcefcb"
      },
      "execution_count": 18,
      "outputs": [
        {
          "output_type": "stream",
          "name": "stdout",
          "text": [
            "Pyt\n"
          ]
        }
      ]
    },
    {
      "cell_type": "code",
      "source": [
        "#4. Write a code to convert the string \"hello\" to uppercase?\n",
        "\n",
        "# Define the string\n",
        "text = \"hello\"\n",
        "uppercase_text = text.upper()\n",
        "\n",
        "print(uppercase_text)\n"
      ],
      "metadata": {
        "colab": {
          "base_uri": "https://localhost:8080/"
        },
        "id": "F1TDFu_Ob2O_",
        "outputId": "dcf2914e-c712-4bed-ec43-a260b4ccb6ec"
      },
      "execution_count": 19,
      "outputs": [
        {
          "output_type": "stream",
          "name": "stdout",
          "text": [
            "HELLO\n"
          ]
        }
      ]
    },
    {
      "cell_type": "code",
      "source": [
        "#5. Write a code to replace the word \"apple\" with \"orange\" in the string \"I like apple\".\n",
        "\n",
        "text = \"I like apple\"\n",
        "new_text = text.replace(\"apple\", \"orange\")\n",
        "\n",
        "print(new_text)\n"
      ],
      "metadata": {
        "colab": {
          "base_uri": "https://localhost:8080/"
        },
        "id": "IUBQTrPNekG0",
        "outputId": "11df62fe-2f02-4f48-b1c0-eee799b73dc1"
      },
      "execution_count": 22,
      "outputs": [
        {
          "output_type": "stream",
          "name": "stdout",
          "text": [
            "I like orange\n"
          ]
        }
      ]
    },
    {
      "cell_type": "code",
      "source": [
        "#6. Write a code to create a list with numbers 1 to 5 and print it.\n",
        "# Creating a list with numbers 1 to 5\n",
        "numbers = [1, 2, 3, 4, 5]\n",
        "\n",
        "print(numbers)\n"
      ],
      "metadata": {
        "colab": {
          "base_uri": "https://localhost:8080/"
        },
        "id": "xhkJr9z8e-3s",
        "outputId": "faefc5d3-852e-4fdb-b712-b862670c4d6c"
      },
      "execution_count": 23,
      "outputs": [
        {
          "output_type": "stream",
          "name": "stdout",
          "text": [
            "[1, 2, 3, 4, 5]\n"
          ]
        }
      ]
    },
    {
      "cell_type": "code",
      "source": [
        "#7. Write a code to append the number 10 to the list [1, 2, 3, 4].\n",
        "\n",
        "# Define the list\n",
        "numbers = [1, 2, 3, 4]\n",
        "numbers.append(10)\n",
        "\n",
        "print(numbers)"
      ],
      "metadata": {
        "colab": {
          "base_uri": "https://localhost:8080/"
        },
        "id": "vfmMp4fPfJyA",
        "outputId": "7f966f9c-8ec6-4d9b-fef9-9fe3af8caec9"
      },
      "execution_count": 24,
      "outputs": [
        {
          "output_type": "stream",
          "name": "stdout",
          "text": [
            "[1, 2, 3, 4, 10]\n"
          ]
        }
      ]
    },
    {
      "cell_type": "code",
      "source": [
        "#8. Write a code to remove the number 3 from the list [1, 2, 3, 4, 5].\n",
        "# Define the list\n",
        "numbers = [1, 2, 3, 4, 5]\n",
        "\n",
        "numbers.remove(3)\n",
        "\n",
        "print(numbers)\n"
      ],
      "metadata": {
        "colab": {
          "base_uri": "https://localhost:8080/"
        },
        "id": "kwgc_rDofWnJ",
        "outputId": "37dcb137-d87c-4b45-ed2c-40c283fd4731"
      },
      "execution_count": 25,
      "outputs": [
        {
          "output_type": "stream",
          "name": "stdout",
          "text": [
            "[1, 2, 4, 5]\n"
          ]
        }
      ]
    },
    {
      "cell_type": "code",
      "source": [
        "#9. Write a code to access the second element in the list ['a', 'b', 'c', 'd'].\n",
        "# Define the list\n",
        "letters = ['a', 'b', 'c', 'd']\n",
        "second_element = letters[1]\n",
        "\n",
        "print(second_element)\n"
      ],
      "metadata": {
        "colab": {
          "base_uri": "https://localhost:8080/"
        },
        "id": "u9yhxk__fjAE",
        "outputId": "60a21d54-0aeb-4b0d-cc60-e9f471dc8ddb"
      },
      "execution_count": 26,
      "outputs": [
        {
          "output_type": "stream",
          "name": "stdout",
          "text": [
            "b\n"
          ]
        }
      ]
    },
    {
      "cell_type": "code",
      "source": [
        "#10. Write a code to reverse the list [10, 20, 30, 40, 50].\n",
        "\n",
        "# Define the list\n",
        "numbers = [10, 20, 30, 40, 50]\n",
        "numbers.reverse()\n",
        "\n",
        "print(numbers)"
      ],
      "metadata": {
        "colab": {
          "base_uri": "https://localhost:8080/"
        },
        "id": "KL0tv94zfu4d",
        "outputId": "76ba9334-9ba9-410c-d9ad-dc79c5e1f014"
      },
      "execution_count": 27,
      "outputs": [
        {
          "output_type": "stream",
          "name": "stdout",
          "text": [
            "[50, 40, 30, 20, 10]\n"
          ]
        }
      ]
    },
    {
      "cell_type": "code",
      "source": [
        "#11. Write a code to create a tuple with the elements 100, 200, 300 and print it.\n",
        "# Creating a tuple\n",
        "numbers = (100, 200, 300)\n",
        "print(numbers)"
      ],
      "metadata": {
        "colab": {
          "base_uri": "https://localhost:8080/"
        },
        "id": "EazNZBX7f6Er",
        "outputId": "1e0676cf-d903-4825-f6fb-dc0fd9ff4c49"
      },
      "execution_count": 28,
      "outputs": [
        {
          "output_type": "stream",
          "name": "stdout",
          "text": [
            "(100, 200, 300)\n"
          ]
        }
      ]
    },
    {
      "cell_type": "code",
      "source": [
        "#12. Write a code to access the second-to-last element of the tuple ('red', 'green', 'blue', 'yellow').\n",
        "\n",
        "# Define the tuple\n",
        "colors = ('red', 'green', 'blue', 'yellow')\n",
        "second_last = colors[-2]\n",
        "\n",
        "print(second_last)"
      ],
      "metadata": {
        "colab": {
          "base_uri": "https://localhost:8080/"
        },
        "id": "J3ZoKCibgPM-",
        "outputId": "3f3e8c63-60a0-4855-b213-eeb580bdbd2d"
      },
      "execution_count": 29,
      "outputs": [
        {
          "output_type": "stream",
          "name": "stdout",
          "text": [
            "blue\n"
          ]
        }
      ]
    },
    {
      "cell_type": "code",
      "source": [
        "#13. Write a code to find the minimum number in the tuple (10, 20, 5, 15).\n",
        "\n",
        "# Define the tuple\n",
        "numbers = (10, 20, 5, 15)\n",
        "min_value = min(numbers)\n",
        "\n",
        "print(min_value)"
      ],
      "metadata": {
        "colab": {
          "base_uri": "https://localhost:8080/"
        },
        "id": "lPlH3i3YggKw",
        "outputId": "98717bc7-e037-4d48-c5ba-b81fff6dd6eb"
      },
      "execution_count": 30,
      "outputs": [
        {
          "output_type": "stream",
          "name": "stdout",
          "text": [
            "5\n"
          ]
        }
      ]
    },
    {
      "cell_type": "code",
      "source": [
        "#14. Write a code to find the index of the element \"cat\" in the tuple ('dog', 'cat', 'rabbit').\n",
        "\n",
        "# Define the tuple\n",
        "animals = ('dog', 'cat', 'rabbit')\n",
        "cat_index = animals.index('cat')\n",
        "\n",
        "print(cat_index)"
      ],
      "metadata": {
        "colab": {
          "base_uri": "https://localhost:8080/"
        },
        "id": "3LWhzG7igr0x",
        "outputId": "491eee74-295d-4f20-8492-74c31bbb5ee2"
      },
      "execution_count": 31,
      "outputs": [
        {
          "output_type": "stream",
          "name": "stdout",
          "text": [
            "1\n"
          ]
        }
      ]
    },
    {
      "cell_type": "code",
      "source": [
        "#15.  Write a code to create a tuple containing three different fruits and check if \"kiwi\" is in it.\n",
        "\n",
        "# Define the tuple with three fruits\n",
        "fruits = ('apple', 'banana', 'orange')\n",
        "\n",
        "is_kiwi_present = 'kiwi' in fruits\n",
        "\n",
        "print(is_kiwi_present)"
      ],
      "metadata": {
        "colab": {
          "base_uri": "https://localhost:8080/"
        },
        "id": "WcdsIqP1isFp",
        "outputId": "645643bf-60dd-49b3-befb-f1b90c7eb8f3"
      },
      "execution_count": 32,
      "outputs": [
        {
          "output_type": "stream",
          "name": "stdout",
          "text": [
            "False\n"
          ]
        }
      ]
    },
    {
      "cell_type": "code",
      "source": [
        "#16. Write a code to create a set with the elements 'a', 'b', 'c' and print it.\n",
        "\n",
        "# Define the set\n",
        "my_set = {'a', 'b', 'c'}\n",
        "print(my_set)"
      ],
      "metadata": {
        "colab": {
          "base_uri": "https://localhost:8080/"
        },
        "id": "3MXkoFsijFGl",
        "outputId": "67751761-e55e-4e03-e12c-4ef0afe80bf9"
      },
      "execution_count": 33,
      "outputs": [
        {
          "output_type": "stream",
          "name": "stdout",
          "text": [
            "{'c', 'a', 'b'}\n"
          ]
        }
      ]
    },
    {
      "cell_type": "code",
      "source": [
        "#17. Write a code to clear all elements from the set {1, 2, 3, 4, 5}.\n",
        "# Define the set\n",
        "numbers = {1, 2, 3, 4, 5}\n",
        "\n",
        "numbers.clear()\n",
        "\n",
        "print(numbers)"
      ],
      "metadata": {
        "colab": {
          "base_uri": "https://localhost:8080/"
        },
        "id": "kbrpSPmyjUmP",
        "outputId": "1873f1fb-9e27-4307-9296-a6688e3a5634"
      },
      "execution_count": 34,
      "outputs": [
        {
          "output_type": "stream",
          "name": "stdout",
          "text": [
            "set()\n"
          ]
        }
      ]
    },
    {
      "cell_type": "code",
      "source": [
        "#18.  Write a code to remove the element 4 from the set {1, 2, 3, 4}.\n",
        "\n",
        "# Define the set\n",
        "numbers = {1, 2, 3, 4}\n",
        "\n",
        "numbers.remove(4)\n",
        "print(numbers)"
      ],
      "metadata": {
        "colab": {
          "base_uri": "https://localhost:8080/"
        },
        "id": "MXbYxZfsjqg7",
        "outputId": "af257903-8157-451b-b301-3be766878735"
      },
      "execution_count": 35,
      "outputs": [
        {
          "output_type": "stream",
          "name": "stdout",
          "text": [
            "{1, 2, 3}\n"
          ]
        }
      ]
    },
    {
      "cell_type": "code",
      "source": [
        " #19. Write a code to find the union of two sets {1, 2, 3} and {3, 4, 5}.\n",
        "\n",
        " # Define the sets\n",
        "set1 = {1, 2, 3}\n",
        "set2 = {3, 4, 5}\n",
        "\n",
        "union_set = set1.union(set2)\n",
        "\n",
        "print(union_set)\n"
      ],
      "metadata": {
        "colab": {
          "base_uri": "https://localhost:8080/"
        },
        "id": "MeBYFAsUko7E",
        "outputId": "8385bcf1-1746-427a-a0e8-5d2f6bc2e6a1"
      },
      "execution_count": 36,
      "outputs": [
        {
          "output_type": "stream",
          "name": "stdout",
          "text": [
            "{1, 2, 3, 4, 5}\n"
          ]
        }
      ]
    },
    {
      "cell_type": "code",
      "source": [
        "#20. Write a code to find the intersection of two sets {1, 2, 3} and {2, 3, 4}.\n",
        "\n",
        "# Define the sets\n",
        "set1 = {1, 2, 3}\n",
        "set2 = {2, 3, 4}\n",
        "\n",
        "intersection_set = set1.intersection(set2)\n",
        "print(intersection_set)\n"
      ],
      "metadata": {
        "colab": {
          "base_uri": "https://localhost:8080/"
        },
        "id": "59srhyxbk_Hj",
        "outputId": "3cb0f83c-20df-4c8d-abe9-de0de7a0fdfd"
      },
      "execution_count": 37,
      "outputs": [
        {
          "output_type": "stream",
          "name": "stdout",
          "text": [
            "{2, 3}\n"
          ]
        }
      ]
    },
    {
      "cell_type": "code",
      "source": [
        "#21. Write a code to create a dictionary with the keys \"name\", \"age\", and \"city\", and print it.\n",
        "\n",
        "# Define the dictionary\n",
        "person = {\n",
        "    \"name\": \"Alice\",\n",
        "    \"age\": 25,\n",
        "    \"city\": \"New York\"\n",
        "}\n",
        "print(person)\n"
      ],
      "metadata": {
        "colab": {
          "base_uri": "https://localhost:8080/"
        },
        "id": "yoOcyhLuliqU",
        "outputId": "381ec6dc-1f1b-4be2-8039-bf70ee03dcd8"
      },
      "execution_count": 39,
      "outputs": [
        {
          "output_type": "stream",
          "name": "stdout",
          "text": [
            "{'name': 'Alice', 'age': 25, 'city': 'New York'}\n"
          ]
        }
      ]
    },
    {
      "cell_type": "code",
      "source": [
        " #22. Write a code to add a new key-value pair \"country\": \"USA\" to the dictionary {'name': 'John', 'age': 25}.\n",
        "\n",
        "# Define the dictionary\n",
        "person = {'name': 'Alice', 'age': 30}\n",
        "name_value = person['name']\n",
        "\n",
        "print(name_value)\n"
      ],
      "metadata": {
        "colab": {
          "base_uri": "https://localhost:8080/"
        },
        "id": "DnW6tp5oluGR",
        "outputId": "11921527-3b63-432f-8f0a-7ba80dc751e6"
      },
      "execution_count": 40,
      "outputs": [
        {
          "output_type": "stream",
          "name": "stdout",
          "text": [
            "Alice\n"
          ]
        }
      ]
    },
    {
      "cell_type": "code",
      "source": [
        "#23. Write a code to access the value associated with the key \"name\" in the dictionary {'name': 'Alice', 'age': 30}.\n",
        "\n",
        "# Define the dictionary\n",
        "person = {'name': 'Alice', 'age': 30}\n",
        "name_value = person['name']\n",
        "\n",
        "print(\"Name:\", name_value)"
      ],
      "metadata": {
        "colab": {
          "base_uri": "https://localhost:8080/"
        },
        "id": "eTCM29lHpAxJ",
        "outputId": "5de2c770-b14c-4744-d155-9cb8f532cd96"
      },
      "execution_count": 48,
      "outputs": [
        {
          "output_type": "stream",
          "name": "stdout",
          "text": [
            "Name: Alice\n"
          ]
        }
      ]
    },
    {
      "cell_type": "code",
      "source": [
        "#24. Write a code to remove the key \"age\" from the dictionary {'name': 'Bob', 'age': 22, 'city': 'New York'}.\n",
        "\n",
        "# Define the dictionary\n",
        "person = {'name': 'Bob', 'age': 22, 'city': 'New York'}\n",
        "\n",
        "removed_value = person.pop('age')\n",
        "\n",
        "print(person)\n",
        "\n",
        "print(\"Removed value:\", removed_value)"
      ],
      "metadata": {
        "colab": {
          "base_uri": "https://localhost:8080/"
        },
        "id": "e60fE51fmE_Q",
        "outputId": "bdac26c4-dba1-4dbc-a883-05bed40a14f0"
      },
      "execution_count": 41,
      "outputs": [
        {
          "output_type": "stream",
          "name": "stdout",
          "text": [
            "{'name': 'Bob', 'city': 'New York'}\n",
            "Removed value: 22\n"
          ]
        }
      ]
    },
    {
      "cell_type": "code",
      "source": [
        "#25. Write a code to check if the key \"city\" exists in the dictionary {'name': 'Alice', 'city': 'Paris'}.\n",
        "\n",
        "# Define the dictionary\n",
        "person = {'name': 'Alice', 'city': 'Paris'}\n",
        "\n",
        "if 'city' in person:\n",
        "    print(\"Key 'city' exists in the dictionary.\")\n",
        "else:\n",
        "    print(\"Key 'city' does not exist in the dictionary.\")\n"
      ],
      "metadata": {
        "colab": {
          "base_uri": "https://localhost:8080/"
        },
        "id": "GS34sfRemqmx",
        "outputId": "4e8dc47f-a39d-4fe7-fe49-8bff84bb3a54"
      },
      "execution_count": 42,
      "outputs": [
        {
          "output_type": "stream",
          "name": "stdout",
          "text": [
            "Key 'city' exists in the dictionary.\n"
          ]
        }
      ]
    },
    {
      "cell_type": "code",
      "source": [
        "#26.  Write a code to create a list, a tuple, and a dictionary, and print them all.\n",
        "\n",
        "# Create a list\n",
        "my_list = [1, 2, 3, 4, 5]\n",
        "\n",
        "my_tuple = ('apple', 'banana', 'cherry')\n",
        "\n",
        "my_dict = {'name': 'Alice', 'age': 25, 'city': 'New York'}\n",
        "\n",
        "print(\"List:\", my_list)\n",
        "print(\"Tuple:\", my_tuple)\n",
        "print(\"Dictionary:\", my_dict)"
      ],
      "metadata": {
        "colab": {
          "base_uri": "https://localhost:8080/"
        },
        "id": "81vtdD9Tm9wq",
        "outputId": "ee3cb7ae-ea3d-4a04-cc8e-c22e8e06afe0"
      },
      "execution_count": 43,
      "outputs": [
        {
          "output_type": "stream",
          "name": "stdout",
          "text": [
            "List: [1, 2, 3, 4, 5]\n",
            "Tuple: ('apple', 'banana', 'cherry')\n",
            "Dictionary: {'name': 'Alice', 'age': 25, 'city': 'New York'}\n"
          ]
        }
      ]
    },
    {
      "cell_type": "code",
      "source": [
        "#27. Write a code to create a list of 5 random numbers between 1 and 100, sort it in ascending order, and print the result.(replaced).\n",
        "\n",
        "import random\n",
        "\n",
        "random_numbers = random.sample(range(1, 101), 5)\n",
        "\n",
        "random_numbers.sort()\n",
        "\n",
        "print(\"Sorted List:\", random_numbers)"
      ],
      "metadata": {
        "colab": {
          "base_uri": "https://localhost:8080/"
        },
        "id": "J7PhI_4Fnh3m",
        "outputId": "c72400ab-6b9c-4319-badf-535bcbc4e958"
      },
      "execution_count": 44,
      "outputs": [
        {
          "output_type": "stream",
          "name": "stdout",
          "text": [
            "Sorted List: [19, 24, 71, 79, 96]\n"
          ]
        }
      ]
    },
    {
      "cell_type": "code",
      "source": [
        "#.28. Write a code to create a list with strings and print the element at the third index.\n",
        "# Create a list of strings\n",
        "words = [\"apple\", \"banana\", \"cherry\", \"date\", \"elderberry\"]\n",
        "third_index_element = words[3]\n",
        "\n",
        "print(\"Element at index 3:\", third_index_element)"
      ],
      "metadata": {
        "colab": {
          "base_uri": "https://localhost:8080/"
        },
        "id": "VEfNIHoMnx8P",
        "outputId": "04766084-92a6-4fe7-b796-4b6dec924d19"
      },
      "execution_count": 45,
      "outputs": [
        {
          "output_type": "stream",
          "name": "stdout",
          "text": [
            "Element at index 3: date\n"
          ]
        }
      ]
    },
    {
      "cell_type": "code",
      "source": [
        "#29. Write a code to combine two dictionaries into one and print the result.\n",
        "\n",
        "# Define two dictionaries\n",
        "dict1 = {'a': 1, 'b': 2}\n",
        "dict2 = {'c': 3, 'd': 4}\n",
        "\n",
        "dict1.update(dict2)\n",
        "print(\"Combined Dictionary:\", dict1)\n"
      ],
      "metadata": {
        "colab": {
          "base_uri": "https://localhost:8080/"
        },
        "id": "P9sVb_TIoCom",
        "outputId": "d1328480-c3b4-4a33-c573-bd9fcdc4bf7a"
      },
      "execution_count": 46,
      "outputs": [
        {
          "output_type": "stream",
          "name": "stdout",
          "text": [
            "Combined Dictionary: {'a': 1, 'b': 2, 'c': 3, 'd': 4}\n"
          ]
        }
      ]
    },
    {
      "cell_type": "code",
      "source": [
        "#30. Write a code to convert a list of strings into a set.\n",
        "\n",
        "# Define a list of strings\n",
        "words_list = [\"apple\", \"banana\", \"cherry\", \"apple\", \"banana\"]\n",
        "\n",
        "words_set = set(words_list)\n",
        "\n",
        "print(\"Set:\", words_set)"
      ],
      "metadata": {
        "colab": {
          "base_uri": "https://localhost:8080/"
        },
        "id": "ViEUq0Tmovlt",
        "outputId": "abbd2276-6764-4227-adff-8de7ff696a0d"
      },
      "execution_count": 47,
      "outputs": [
        {
          "output_type": "stream",
          "name": "stdout",
          "text": [
            "Set: {'apple', 'banana', 'cherry'}\n"
          ]
        }
      ]
    }
  ]
}